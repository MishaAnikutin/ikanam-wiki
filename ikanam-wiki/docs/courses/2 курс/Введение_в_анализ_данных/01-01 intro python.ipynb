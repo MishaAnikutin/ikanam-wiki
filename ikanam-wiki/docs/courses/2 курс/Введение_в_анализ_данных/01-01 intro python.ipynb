{
 "cells": [
  {
   "cell_type": "markdown",
   "metadata": {},
   "source": [
    "# Из чего состоит наш курс?\n",
    "\n",
    "1. 4 сместр - **Введение в анализ данных**. О чем пойдет речь:\n",
    "    - научимся писать код на Python;\n",
    "    - разберемся с основными пакетами предназначенными для математических вычислений и визуализации, например `numpy` и `matplotlib`;\n",
    "    - разберемся с пакетом `pandas` - Excel на стрероидах :)\n",
    "    - попробуем таскать данные с сайтов;\n",
    "    - разберемся с основными методами анализа и визуализации данных.\\\n",
    "        Все это потребуется в последующих семестрах. Подговка данных обычно занимает более 80% процентов времени работы в сфере Data Science.\n",
    "\n",
    "2. 5 семестр - **Машинное обучение**. О чем пойдет речь:\n",
    "    - научимся варить фичи и на основе их учить \"думать\" за себя компьютер;\n",
    "    - научимся разбираться в метриках моделей, для того что бы понять, а правильно ли мы научили  \"думать\" компьютер.\n",
    "\n",
    "3. 6 семестр - **Глубокое обучение**. О чем пойдет речь:\n",
    "    - научимся стоить модели которые будут варить фичи и обучаться сами ...\n",
    "    - нужно много данных, очень много ...\n",
    "    - нужен компьютер, нет нужен КОМПЬЮТЕР, нет нужен СУПЕР КОМПЬЮТЕР ... (копим деньги или ждем прорыва в персональных вычислительных мощностях в пожизненном академическом отпуске :( - шутка)\n",
    "    \n",
    "4. 7 семестр - **Продвинутые методы машинного обучения**. О чем пойдет речь:\n",
    "    - бустинг наше все ... Яндекс (catboost) и Google (xgboost) рулят!\n",
    "    - хочу вероятностные, а не точечные эконометрические оценки (вероятностное программирование в студию!), может вы еще не понимаете, но учить вам прийдется тоже 4 семестра.\n",
    "\n",
    "Дальше, кое что на выбор в 8 семестре.\n",
    "    "
   ]
  },
  {
   "cell_type": "markdown",
   "metadata": {},
   "source": [
    "# Как получить оценку за семест?\n",
    "\n",
    "1. Домашние задания (каждое оценивается по нашей стандартной десяти балльной системе) и 5 курсов в DataCamp (вовремя 2 балла, опоздал - 1, не сделал - 0 баллов за каждый курс).\n",
    "2. Две контрольные работы\n",
    "\n",
    "Итоговая оценка расчитывается:\n",
    "$$\n",
    "\\frac{DataCamp +\\sum_{i=1}^n ДЗ_i }{ n+1} \\cdot 0.5 + \\frac{\\sum_{j=1}^k КР_i }{k}\\cdot 0.5\n",
    "$$\n",
    "\n",
    "Итоговая оценка округленная **вниз** до целого предлагается как оценка за семестр. Если это устраивает, то оценка выставляется за семестр.\n",
    "\n",
    "Если нет, приходим на зачет/экзамен, тогда к накопленной оценке можно добавить максимум 3 балла:\n",
    "$$0.3\\cdot Экзамен(до 10 баллов)$$\n",
    "\n",
    "НО есть условия:\n",
    "- если целое число накопленных баллов больше экзамена, оценка выставляется по экзамену, то есть оценка будет понижена;\n",
    "- если целое число накопленных баллов равно баллам экзамена, оценка остается без изменения;\n",
    "- если целое число накопленных баллов меньше баллов экзамена, то будут добавлены дополнительные баллы к накопленным баллам. \n",
    "        "
   ]
  },
  {
   "cell_type": "markdown",
   "metadata": {},
   "source": [
    "# Требование к дистрибутиву\n",
    "\n",
    "Дистрибутив Anaconda https://www.anaconda.com/products/individual в зависивости от вашей ОС не ниже версии 3.9\n",
    "\n",
    "Дистрибутив устанавливаем самостоятельно, желательно носим свои ноубуки на практические занятия, чтобы не занимаится решением проблем взаимоотношений с академическим компьютером.\n",
    "\n",
    "Редактор **Jupyter** в составе дистрибутива - не ниже версии 6. Задания принимаются **только в формате `ipynb`**. Можно пользоваться любым редактором, включая `Google Colab`, но эти решения вы принимаете на свой стах и риск ;).\n",
    "\n",
    "Еще раз для самых внимательных: формат файлов **только `ipynb`**.\n",
    "\n",
    "# Взаимоотношение с GitHub\n",
    "\n",
    "С моей стороны:\n",
    "- общий репозиторий преподавателя https://github.com/kshilin \n",
    "- текуший курс по анализу данных размешен в репозитории [GitHub](https://github.com/kshilin/dawp)\n",
    "\n",
    "Со стороны студентов (до первого практичесого занятия):\n",
    "- заводите учетную запись на GitHub на академическую почту в домене @edu.ranepa.ru, если запись уже есть делаете основной почтой в записи  @edu.ranepa.ru, остальные почты сносить не нужно их можно оставить в учетке на второй и третий адрес;\n",
    "- передаете свою почту и ник в GitHub старосте, староста делает единый список в три колонки:\n",
    "    1. фамилия имя отчество;\n",
    "    2. почта @edu.ranepa.ru;\n",
    "    3. ник GitHub.\n",
    "- староста высылает мне список\n",
    "\n",
    "Все домашние задания и контрольные, а также комментарии по ним будут проводится через GitHub Classroom. Как это происходит разберем на занятих позже. \n"
   ]
  },
  {
   "cell_type": "markdown",
   "metadata": {},
   "source": [
    "# Что такое DataCamp?\n",
    "\n",
    "[DataCamp](https://www.datacamp.com) обычно предоставлял мне полный, неограниченный доступ к курсам интерактивного программирования. Надеюсь у вас будет этот доступ (в рамках программы поддержки преподавателей). Поэтому мне нужны ваши академические почты. На почту вам прийдет приглашение на регистрацию. \n",
    "\n",
    "Регистироваться только с академической почты. Указываем свое имя и фамилию на русском языке."
   ]
  },
  {
   "cell_type": "markdown",
   "metadata": {},
   "source": [
    "# Как работает Jupyter\n",
    "\n",
    "Почитать:\n",
    "- https://www.datacamp.com/cheat-sheet/jupyter-notebook-cheat-sheet\n",
    "- https://www.edureka.co/blog/wp-content/uploads/2018/10/Jupyter_Notebook_CheatSheet_Edureka.pdf\n",
    "- https://medium.com/edureka/jupyter-notebook-cheat-sheet-88f60d1aca7"
   ]
  },
  {
   "cell_type": "markdown",
   "metadata": {},
   "source": [
    "# Форматирование текста в режиме Markdown\n",
    "\n",
    "\n",
    "Здесь **мы попробуем наши силы**, а *также* познокомимся с формулами `Latex`. ***Вот так переносим строки*** <br>\n",
    "Текст. Текст. Текст. Текст. Текст. Текст. Текст. Текст. Текст. Текст. Текст. Текст. Текст. Текст. Текст. Текст. Текст. Текст. Текст. Текст. Текст. Текст. Текст. Текст. Текст. Текст. Текст. Текст. Текст. Текст. Текст. Текст. Текст. Текст. Текст. Текст. Текст. Текст. Текст. Текст. Текст. Текст. Текст. Текст. Текст. Текст. Текст. Текст. Текст. Текст. Текст. Текст. Текст. Текст. Текст. Текст. Текст. Текст. Текст. Текст. Текст. Текст. Текст. Текст. Текст. Текст. Текст. Текст. Текст. Текст. Текст. Текст. Текст. Текст. Текст. Текст. Текст. Текст. Текст. Текст. Текст. Текст. Текст. Текст. Текст. Текст. Текст. Текст. Текст. Текст. Текст. Текст. Текст. Текст. Текст. Текст. Текст. Текст. Текст. Текст. Текст. Текст. Текст. Текст. Текст. Текст. Текст. Текст. Текст. Текст. Текст. Текст. Текст. Текст. Текст. Текст. Текст. Текст. Текст. Текст. Текст. Текст. Текст. Текст. Текст. Текст. Текст. Текст. Текст. Текст. Текст. Текст. Текст. Текст. Текст. Текст. Текст. Текст. Текст. Текст. Текст. Текст. Вот так принудительно переносим строки  <br>\n",
    "Текст. Текст. Текст. Текст. Текст. Текст $\\int_0^\\infty \\sin(x)dx$  Текст. Текст. Текст. Текст. Текст. Текст\n",
    "И вот отдельно стоящая формула:\n",
    "$$\\int_0^\\infty \\sin(x)dx$$"
   ]
  },
  {
   "cell_type": "markdown",
   "metadata": {},
   "source": [
    "Так мы выполняем код нажимая `Shift` + `Enter` одновременно"
   ]
  },
  {
   "cell_type": "code",
   "execution_count": 1,
   "metadata": {},
   "outputs": [
    {
     "data": {
      "text/plain": [
       "5"
      ]
     },
     "execution_count": 1,
     "metadata": {},
     "output_type": "execute_result"
    }
   ],
   "source": [
    "2 + 3"
   ]
  },
  {
   "cell_type": "code",
   "execution_count": 2,
   "metadata": {},
   "outputs": [
    {
     "name": "stdout",
     "output_type": "stream",
     "text": [
      "10\n"
     ]
    },
    {
     "data": {
      "text/plain": [
       "30"
      ]
     },
     "execution_count": 2,
     "metadata": {},
     "output_type": "execute_result"
    }
   ],
   "source": [
    "a = 10\n",
    "b = 20\n",
    "print(b - a)\n",
    "b + a"
   ]
  },
  {
   "cell_type": "markdown",
   "metadata": {},
   "source": [
    "## Странный Python (важно помнить всегда)\n",
    "\n",
    "### Банковское оругление :)"
   ]
  },
  {
   "cell_type": "code",
   "execution_count": 3,
   "metadata": {},
   "outputs": [
    {
     "data": {
      "text/plain": [
       "2"
      ]
     },
     "execution_count": 3,
     "metadata": {},
     "output_type": "execute_result"
    }
   ],
   "source": [
    "round(1.5)"
   ]
  },
  {
   "cell_type": "code",
   "execution_count": 5,
   "metadata": {},
   "outputs": [
    {
     "data": {
      "text/plain": [
       "2"
      ]
     },
     "execution_count": 5,
     "metadata": {},
     "output_type": "execute_result"
    }
   ],
   "source": [
    "round(2.5)"
   ]
  },
  {
   "cell_type": "code",
   "execution_count": 5,
   "metadata": {},
   "outputs": [
    {
     "data": {
      "text/plain": [
       "4"
      ]
     },
     "execution_count": 5,
     "metadata": {},
     "output_type": "execute_result"
    }
   ],
   "source": [
    "round(3.5)"
   ]
  },
  {
   "cell_type": "code",
   "execution_count": 6,
   "metadata": {},
   "outputs": [
    {
     "data": {
      "text/plain": [
       "4"
      ]
     },
     "execution_count": 6,
     "metadata": {},
     "output_type": "execute_result"
    }
   ],
   "source": [
    "round(4.5) # упс как так?"
   ]
  },
  {
   "cell_type": "markdown",
   "metadata": {},
   "source": [
    "в английском языке известно под названием англ. banker's rounding — «округление банкира» — округление для этого случая происходит к ближайшему чётному числу, то есть 2,5 → 2; 3,5 → 4."
   ]
  },
  {
   "cell_type": "markdown",
   "metadata": {},
   "source": [
    "### Странное сложение (особенности операций с плавающей точкой)"
   ]
  },
  {
   "cell_type": "code",
   "execution_count": 7,
   "metadata": {},
   "outputs": [
    {
     "data": {
      "text/plain": [
       "False"
      ]
     },
     "execution_count": 7,
     "metadata": {},
     "output_type": "execute_result"
    }
   ],
   "source": [
    "1/10 + 2/10 == 3/10"
   ]
  },
  {
   "cell_type": "code",
   "execution_count": 60,
   "metadata": {},
   "outputs": [
    {
     "data": {
      "text/plain": [
       "False"
      ]
     },
     "execution_count": 60,
     "metadata": {},
     "output_type": "execute_result"
    }
   ],
   "source": [
    "0.1 + 0.2 == 0.3"
   ]
  },
  {
   "cell_type": "code",
   "execution_count": 58,
   "metadata": {},
   "outputs": [
    {
     "data": {
      "text/plain": [
       "True"
      ]
     },
     "execution_count": 58,
     "metadata": {},
     "output_type": "execute_result"
    }
   ],
   "source": [
    "0.1 + 0.1 == 0.2"
   ]
  },
  {
   "cell_type": "markdown",
   "metadata": {},
   "source": [
    "## Привет Мир!"
   ]
  },
  {
   "cell_type": "code",
   "execution_count": 63,
   "metadata": {},
   "outputs": [
    {
     "name": "stdout",
     "output_type": "stream",
     "text": [
      "Hell'o World!\n"
     ]
    }
   ],
   "source": [
    "print(\"Hello World!\")"
   ]
  },
  {
   "cell_type": "markdown",
   "metadata": {},
   "source": [
    "упрощаем ввод используя \\<Tab\\>"
   ]
  },
  {
   "cell_type": "code",
   "execution_count": 8,
   "metadata": {},
   "outputs": [
    {
     "data": {
      "text/plain": [
       "27"
      ]
     },
     "execution_count": 8,
     "metadata": {},
     "output_type": "execute_result"
    }
   ],
   "source": [
    "an_apple = 27\n",
    "an_example = 27\n",
    "s = an_apple + an_example\n",
    "s\n",
    "an_apple"
   ]
  },
  {
   "cell_type": "code",
   "execution_count": null,
   "metadata": {},
   "outputs": [],
   "source": []
  },
  {
   "cell_type": "markdown",
   "metadata": {},
   "source": [
    "справка по ?"
   ]
  },
  {
   "cell_type": "code",
   "execution_count": 9,
   "metadata": {},
   "outputs": [],
   "source": [
    "b = [1, 2, 3]\n",
    "b?"
   ]
  },
  {
   "cell_type": "code",
   "execution_count": 10,
   "metadata": {},
   "outputs": [],
   "source": [
    "print?"
   ]
  },
  {
   "cell_type": "markdown",
   "metadata": {},
   "source": [
    "Это называется интроспекцией объекта. Можно создать свою интроспекцию в своей функии"
   ]
  },
  {
   "cell_type": "code",
   "execution_count": 69,
   "metadata": {},
   "outputs": [
    {
     "name": "stdout",
     "output_type": "stream",
     "text": [
      "5\n"
     ]
    },
    {
     "data": {
      "text/plain": [
       "13"
      ]
     },
     "execution_count": 69,
     "metadata": {},
     "output_type": "execute_result"
    }
   ],
   "source": [
    "def add_numbers(a, b): \n",
    "    \"\"\"\n",
    "    Сложить два числа\n",
    "    Возвращает:\n",
    "    ---------------\n",
    "    the_sum : тип аргументов \n",
    "    ---------------\n",
    "    \"\"\"\n",
    "    return a + b\n",
    "\n",
    "print(add_numbers(2,3))\n",
    "add_numbers(10,3)"
   ]
  },
  {
   "cell_type": "code",
   "execution_count": 70,
   "metadata": {},
   "outputs": [],
   "source": [
    "add_numbers?"
   ]
  },
  {
   "cell_type": "markdown",
   "metadata": {},
   "source": [
    "### Магические команды"
   ]
  },
  {
   "cell_type": "code",
   "execution_count": 11,
   "metadata": {},
   "outputs": [],
   "source": [
    "%magic"
   ]
  },
  {
   "cell_type": "code",
   "execution_count": 12,
   "metadata": {},
   "outputs": [
    {
     "data": {
      "text/plain": [
       "'/Users/macbook2019/Dropbox/ My cource/Data Analisis 2022-23/01 meeting'"
      ]
     },
     "execution_count": 12,
     "metadata": {},
     "output_type": "execute_result"
    }
   ],
   "source": [
    "%pwd # где я сейчас"
   ]
  },
  {
   "cell_type": "code",
   "execution_count": 17,
   "metadata": {},
   "outputs": [
    {
     "data": {
      "text/plain": [
       "'/Users/imachome/Dropbox/ My cource/Data Analisis 2022-23/01 meeting'"
      ]
     },
     "execution_count": 17,
     "metadata": {},
     "output_type": "execute_result"
    }
   ],
   "source": [
    "path = %pwd # можно присвоить путь\n",
    "path"
   ]
  },
  {
   "cell_type": "code",
   "execution_count": 10,
   "metadata": {},
   "outputs": [
    {
     "name": "stdout",
     "output_type": "stream",
     "text": [
      "an_apple = 27\n",
      "an_example = 27\n",
      "an_apple + an_example\n",
      "b = [1, 2, 3]\n",
      "b?\n",
      "print?\n",
      "b = [1, 2, 3]\n",
      "b?\n",
      "an_apple = 27\n",
      "an_example = 27\n",
      "an_apple + an_example\n",
      "an_apple = 27\n",
      "an_example = 27\n",
      "s = an_apple + an_example\n",
      "an_apple = 27\n",
      "an_example = 27\n",
      "s = an_apple + an_example\n",
      "s\n",
      "an_apple = 27\n",
      "an_example = 27\n",
      "s = an_apple + an_example\n",
      "s\n",
      "an_apple\n",
      "%pwd # где я сейчас\n",
      "%hist # Напечатать историю введенных команд (по желанию вместе с результатами)\n",
      "%hist\n"
     ]
    }
   ],
   "source": [
    "%hist # Напечатать историю введенных команд (по желанию вместе с результатами)\n",
    "%hist"
   ]
  },
  {
   "cell_type": "code",
   "execution_count": 14,
   "metadata": {},
   "outputs": [
    {
     "name": "stdout",
     "output_type": "stream",
     "text": [
      "CPU times: user 5 µs, sys: 1 µs, total: 6 µs\n",
      "Wall time: 9.06 µs\n"
     ]
    },
    {
     "data": {
      "text/plain": [
       "range(0, 100000)"
      ]
     },
     "execution_count": 14,
     "metadata": {},
     "output_type": "execute_result"
    }
   ],
   "source": [
    "#  хронометраж команды\n",
    "%time range(100000)"
   ]
  },
  {
   "cell_type": "code",
   "execution_count": 15,
   "metadata": {},
   "outputs": [
    {
     "name": "stdout",
     "output_type": "stream",
     "text": [
      "189 ns ± 1 ns per loop (mean ± std. dev. of 7 runs, 10,000,000 loops each)\n"
     ]
    }
   ],
   "source": [
    "# усредненный хронометраж команды\n",
    "%timeit range(1000)"
   ]
  },
  {
   "cell_type": "markdown",
   "metadata": {},
   "source": [
    " ### Имена определенных переменных в данном сеансе"
   ]
  },
  {
   "cell_type": "code",
   "execution_count": 76,
   "metadata": {},
   "outputs": [
    {
     "name": "stdout",
     "output_type": "stream",
     "text": [
      "a\t add_numbers\t an_apple\t an_example\t array\t b\t c\t greater\t less\t \n",
      "path\t pivot\t x\t \n"
     ]
    }
   ],
   "source": [
    "%who"
   ]
  },
  {
   "cell_type": "code",
   "execution_count": 22,
   "metadata": {},
   "outputs": [
    {
     "data": {
      "text/plain": [
       "['a', 'add_numbers', 'an_apple', 'an_example', 'b', 'path']"
      ]
     },
     "execution_count": 22,
     "metadata": {},
     "output_type": "execute_result"
    }
   ],
   "source": [
    "%who_ls"
   ]
  },
  {
   "cell_type": "code",
   "execution_count": 77,
   "metadata": {},
   "outputs": [
    {
     "name": "stdout",
     "output_type": "stream",
     "text": [
      "Variable      Type        Data/Info\n",
      "-----------------------------------\n",
      "a             int         10\n",
      "add_numbers   function    <function add_numbers at 0x7fdf175d99d0>\n",
      "an_apple      int         27\n",
      "an_example    int         27\n",
      "array         list        n=5\n",
      "b             list        n=3\n",
      "c             str         \\nЭто длинная строка, \\nз<...>ющая несколько строчек \\n\n",
      "greater       list        n=3\n",
      "less          list        n=2\n",
      "path          str         /Users/imachome/Dropbox/ <...>alisis 2022-23/01 meeting\n",
      "pivot         int         3\n",
      "x             int         5\n"
     ]
    }
   ],
   "source": [
    "%whos"
   ]
  },
  {
   "cell_type": "markdown",
   "metadata": {},
   "source": [
    "## Семантика языка\n",
    "\n",
    "`Tab` регулирует степень вложенности кода"
   ]
  },
  {
   "cell_type": "code",
   "execution_count": 4,
   "metadata": {},
   "outputs": [
    {
     "name": "stdout",
     "output_type": "stream",
     "text": [
      "less: [1, 2]   greater: [3, 4, 5]\n"
     ]
    }
   ],
   "source": [
    "pivot = 3\n",
    "array = [1, 2, 3, 4, 5]\n",
    "less = []\n",
    "greater = []\n",
    "for x in array: \n",
    "    if x < pivot:\n",
    "        less.append(x) \n",
    "    else:\n",
    "        greater.append(x)\n",
    "print('less:',less, '  greater:',greater)"
   ]
  },
  {
   "cell_type": "markdown",
   "metadata": {},
   "source": [
    "\n",
    "Как двигать текст: Tab или 4 пробела ???<br>\n",
    "https://www.youtube.com/watch?v=AXLoRpKnK8U <br>\n",
    "Это \"Holly war\" если вы используете моноширинный шрифт вам все равно \n",
    "https://ru.wikipedia.org/wiki/Моноширинный_шрифт"
   ]
  },
  {
   "cell_type": "code",
   "execution_count": 25,
   "metadata": {},
   "outputs": [
    {
     "data": {
      "text/plain": [
       "18"
      ]
     },
     "execution_count": 25,
     "metadata": {},
     "output_type": "execute_result"
    }
   ],
   "source": [
    "a = 5; b = 6; c = 7 # можно и так\n",
    "a + b + c"
   ]
  },
  {
   "cell_type": "markdown",
   "metadata": {},
   "source": [
    "Тут нужно поговорить о вызове функции и методе или право и левосторонней записи команд."
   ]
  },
  {
   "cell_type": "code",
   "execution_count": 78,
   "metadata": {},
   "outputs": [
    {
     "data": {
      "text/plain": [
       "3"
      ]
     },
     "execution_count": 78,
     "metadata": {},
     "output_type": "execute_result"
    }
   ],
   "source": [
    "a = 'FOO'\n",
    "len(a)"
   ]
  },
  {
   "cell_type": "code",
   "execution_count": 85,
   "metadata": {},
   "outputs": [
    {
     "data": {
      "text/plain": [
       "'foo'"
      ]
     },
     "execution_count": 85,
     "metadata": {},
     "output_type": "execute_result"
    }
   ],
   "source": [
    "a.lower()"
   ]
  },
  {
   "cell_type": "markdown",
   "metadata": {},
   "source": [
    "Простые операции"
   ]
  },
  {
   "cell_type": "code",
   "execution_count": 19,
   "metadata": {},
   "outputs": [
    {
     "data": {
      "text/plain": [
       "13"
      ]
     },
     "execution_count": 19,
     "metadata": {},
     "output_type": "execute_result"
    }
   ],
   "source": [
    "a = 10\n",
    "b = 3\n",
    "a + b"
   ]
  },
  {
   "cell_type": "code",
   "execution_count": 20,
   "metadata": {},
   "outputs": [
    {
     "data": {
      "text/plain": [
       "1"
      ]
     },
     "execution_count": 20,
     "metadata": {},
     "output_type": "execute_result"
    }
   ],
   "source": [
    "c = True\n",
    "d = False\n",
    "c + d"
   ]
  },
  {
   "cell_type": "code",
   "execution_count": 21,
   "metadata": {},
   "outputs": [
    {
     "data": {
      "text/plain": [
       "7"
      ]
     },
     "execution_count": 21,
     "metadata": {},
     "output_type": "execute_result"
    }
   ],
   "source": [
    "a - b"
   ]
  },
  {
   "cell_type": "code",
   "execution_count": 22,
   "metadata": {},
   "outputs": [
    {
     "data": {
      "text/plain": [
       "3.3333333333333335"
      ]
     },
     "execution_count": 22,
     "metadata": {},
     "output_type": "execute_result"
    }
   ],
   "source": [
    "a / b"
   ]
  },
  {
   "cell_type": "code",
   "execution_count": 23,
   "metadata": {},
   "outputs": [
    {
     "data": {
      "text/plain": [
       "3"
      ]
     },
     "execution_count": 23,
     "metadata": {},
     "output_type": "execute_result"
    }
   ],
   "source": [
    "a // b # Разделить нацело, отбросив дробный остаток"
   ]
  },
  {
   "cell_type": "code",
   "execution_count": 24,
   "metadata": {},
   "outputs": [
    {
     "data": {
      "text/plain": [
       "9"
      ]
     },
     "execution_count": 24,
     "metadata": {},
     "output_type": "execute_result"
    }
   ],
   "source": [
    "a ^ b # Для булевых величин True, если либо a, либо b, но не обе одновременно равны True. \n",
    "# Для целых чисел вычисляет поразрядное ИСКЛЮЧИТЕЛЬНОЕ ИЛИ\n",
    "# короче говоря ЭТО НЕ ВОЗВЕДЕНИЕ В СТЕПЕНЬ!"
   ]
  },
  {
   "cell_type": "code",
   "execution_count": 26,
   "metadata": {},
   "outputs": [
    {
     "data": {
      "text/plain": [
       "True"
      ]
     },
     "execution_count": 26,
     "metadata": {},
     "output_type": "execute_result"
    }
   ],
   "source": [
    "c ^ d"
   ]
  },
  {
   "cell_type": "code",
   "execution_count": 6,
   "metadata": {},
   "outputs": [
    {
     "data": {
      "text/plain": [
       "1000"
      ]
     },
     "execution_count": 6,
     "metadata": {},
     "output_type": "execute_result"
    }
   ],
   "source": [
    "a ** b # Возвести a в степень b"
   ]
  },
  {
   "cell_type": "code",
   "execution_count": 7,
   "metadata": {},
   "outputs": [
    {
     "data": {
      "text/plain": [
       "2"
      ]
     },
     "execution_count": 7,
     "metadata": {},
     "output_type": "execute_result"
    }
   ],
   "source": [
    "a & b # True, если и a, и b равны True (ЛОГИЧЕСКОЕ И). Для целых чисел вычисляет поразрядное И"
   ]
  },
  {
   "cell_type": "code",
   "execution_count": 27,
   "metadata": {},
   "outputs": [
    {
     "data": {
      "text/plain": [
       "False"
      ]
     },
     "execution_count": 27,
     "metadata": {},
     "output_type": "execute_result"
    }
   ],
   "source": [
    "c & d"
   ]
  },
  {
   "cell_type": "code",
   "execution_count": 8,
   "metadata": {},
   "outputs": [
    {
     "data": {
      "text/plain": [
       "11"
      ]
     },
     "execution_count": 8,
     "metadata": {},
     "output_type": "execute_result"
    }
   ],
   "source": [
    "a | b # True, либо a, либо b равно True (ЛОГИЧЕСКОЕ ИЛИ). Для целых чисел вычисляет поразрядное ИЛИ"
   ]
  },
  {
   "cell_type": "code",
   "execution_count": 28,
   "metadata": {},
   "outputs": [
    {
     "data": {
      "text/plain": [
       "True"
      ]
     },
     "execution_count": 28,
     "metadata": {},
     "output_type": "execute_result"
    }
   ],
   "source": [
    "c | d"
   ]
  },
  {
   "cell_type": "code",
   "execution_count": 10,
   "metadata": {},
   "outputs": [
    {
     "data": {
      "text/plain": [
       "False"
      ]
     },
     "execution_count": 10,
     "metadata": {},
     "output_type": "execute_result"
    }
   ],
   "source": [
    "a == b # True, если a равно b"
   ]
  },
  {
   "cell_type": "code",
   "execution_count": 11,
   "metadata": {},
   "outputs": [
    {
     "data": {
      "text/plain": [
       "True"
      ]
     },
     "execution_count": 11,
     "metadata": {},
     "output_type": "execute_result"
    }
   ],
   "source": [
    "a != b # True, если a НЕ равно b"
   ]
  },
  {
   "cell_type": "code",
   "execution_count": 12,
   "metadata": {},
   "outputs": [
    {
     "name": "stdout",
     "output_type": "stream",
     "text": [
      "False\n",
      "False\n"
     ]
    }
   ],
   "source": [
    "print(a <  b)\n",
    "print(a <= b)"
   ]
  },
  {
   "cell_type": "code",
   "execution_count": 13,
   "metadata": {},
   "outputs": [
    {
     "name": "stdout",
     "output_type": "stream",
     "text": [
      "True\n",
      "True\n"
     ]
    }
   ],
   "source": [
    "print(a >  b)\n",
    "print(a >= b)"
   ]
  },
  {
   "cell_type": "markdown",
   "metadata": {},
   "source": [
    "Стандартные типы данных в Python\n",
    "\n",
    "| Тип | Описание |\n",
    "| ---: | :--- |\n",
    "| None | Значение «null» в Python, это пустое множество, объект не определен |\n",
    "| str | Тип строки. Может содержать любые символы Unicode |\n",
    "| bytes | Неинтерпретируемые ASCII-байты |\n",
    "| float | Число с плавающей точкой двойной точности (64-разрядное).  |\n",
    "| bool | Значение True или False |\n",
    "| int | Целое со знаком, максимальное значение зависит от платформы |\n",
    "\n",
    "\n",
    "Кавычки и апострофы"
   ]
  },
  {
   "cell_type": "code",
   "execution_count": 30,
   "metadata": {},
   "outputs": [
    {
     "data": {
      "text/plain": [
       "str"
      ]
     },
     "execution_count": 30,
     "metadata": {},
     "output_type": "execute_result"
    }
   ],
   "source": [
    "a = 'простая строка'\n",
    "b = \"другие кавычки, но смысл не меняется\"\n",
    "type(b)"
   ]
  },
  {
   "cell_type": "code",
   "execution_count": 31,
   "metadata": {},
   "outputs": [
    {
     "data": {
      "text/plain": [
       "'\\nЭто длинная строка, \\nзанимающая несколько строчек \\n'"
      ]
     },
     "execution_count": 31,
     "metadata": {},
     "output_type": "execute_result"
    }
   ],
   "source": [
    "c = \"\"\"\n",
    "Это длинная строка, \n",
    "занимающая несколько строчек \n",
    "\"\"\"\n",
    "c"
   ]
  },
  {
   "cell_type": "code",
   "execution_count": 33,
   "metadata": {},
   "outputs": [
    {
     "name": "stdout",
     "output_type": "stream",
     "text": [
      "\n",
      "Это длинная строка, \n",
      "занимающая несколько строчек \n",
      "\n"
     ]
    }
   ],
   "source": [
    "print(c) # Внимание не печатные символы !!!"
   ]
  },
  {
   "cell_type": "code",
   "execution_count": 34,
   "metadata": {},
   "outputs": [
    {
     "data": {
      "text/plain": [
       "3"
      ]
     },
     "execution_count": 34,
     "metadata": {},
     "output_type": "execute_result"
    }
   ],
   "source": [
    "c.count('\\n') # \\n это возврат коретки, перевод на новую строку"
   ]
  },
  {
   "cell_type": "markdown",
   "metadata": {},
   "source": [
    "### Прикольные строки в Python"
   ]
  },
  {
   "cell_type": "code",
   "execution_count": 45,
   "metadata": {},
   "outputs": [
    {
     "data": {
      "text/plain": [
       "'м'"
      ]
     },
     "execution_count": 45,
     "metadata": {},
     "output_type": "execute_result"
    }
   ],
   "source": [
    "a = 'моя длинная строка для разных фокусов'\n",
    "a[0]"
   ]
  },
  {
   "cell_type": "code",
   "execution_count": 46,
   "metadata": {},
   "outputs": [
    {
     "data": {
      "text/plain": [
       "'я'"
      ]
     },
     "execution_count": 46,
     "metadata": {},
     "output_type": "execute_result"
    }
   ],
   "source": [
    "a[10]"
   ]
  },
  {
   "cell_type": "code",
   "execution_count": 47,
   "metadata": {},
   "outputs": [
    {
     "data": {
      "text/plain": [
       "'в'"
      ]
     },
     "execution_count": 47,
     "metadata": {},
     "output_type": "execute_result"
    }
   ],
   "source": [
    "a[-1]"
   ]
  },
  {
   "cell_type": "code",
   "execution_count": 48,
   "metadata": {},
   "outputs": [
    {
     "data": {
      "text/plain": [
       "'моя'"
      ]
     },
     "execution_count": 48,
     "metadata": {},
     "output_type": "execute_result"
    }
   ],
   "source": [
    "a[0:3] # разностная адресация"
   ]
  },
  {
   "cell_type": "code",
   "execution_count": 49,
   "metadata": {},
   "outputs": [
    {
     "data": {
      "text/plain": [
       "'фокусо'"
      ]
     },
     "execution_count": 49,
     "metadata": {},
     "output_type": "execute_result"
    }
   ],
   "source": [
    "a[-7:-1] # почему?"
   ]
  },
  {
   "cell_type": "code",
   "execution_count": 50,
   "metadata": {},
   "outputs": [
    {
     "data": {
      "text/plain": [
       "'фокусов'"
      ]
     },
     "execution_count": 50,
     "metadata": {},
     "output_type": "execute_result"
    }
   ],
   "source": [
    "a[-7:]"
   ]
  },
  {
   "cell_type": "code",
   "execution_count": 51,
   "metadata": {},
   "outputs": [
    {
     "data": {
      "text/plain": [
       "['м',\n",
       " 'о',\n",
       " 'я',\n",
       " ' ',\n",
       " 'д',\n",
       " 'л',\n",
       " 'и',\n",
       " 'н',\n",
       " 'н',\n",
       " 'а',\n",
       " 'я',\n",
       " ' ',\n",
       " 'с',\n",
       " 'т',\n",
       " 'р',\n",
       " 'о',\n",
       " 'к',\n",
       " 'а',\n",
       " ' ',\n",
       " 'д',\n",
       " 'л',\n",
       " 'я',\n",
       " ' ',\n",
       " 'р',\n",
       " 'а',\n",
       " 'з',\n",
       " 'н',\n",
       " 'ы',\n",
       " 'х',\n",
       " ' ',\n",
       " 'ф',\n",
       " 'о',\n",
       " 'к',\n",
       " 'у',\n",
       " 'с',\n",
       " 'о',\n",
       " 'в']"
      ]
     },
     "execution_count": 51,
     "metadata": {},
     "output_type": "execute_result"
    }
   ],
   "source": [
    "list(a)"
   ]
  },
  {
   "cell_type": "code",
   "execution_count": 52,
   "metadata": {},
   "outputs": [
    {
     "data": {
      "text/plain": [
       "'Моя длинная строка для разных фокусов'"
      ]
     },
     "execution_count": 52,
     "metadata": {},
     "output_type": "execute_result"
    }
   ],
   "source": [
    "a.capitalize()"
   ]
  },
  {
   "cell_type": "code",
   "execution_count": 53,
   "metadata": {},
   "outputs": [
    {
     "data": {
      "text/plain": [
       "'моя длинная строка для разных фокусов'"
      ]
     },
     "execution_count": 53,
     "metadata": {},
     "output_type": "execute_result"
    }
   ],
   "source": [
    "a.replace('a','F') # почему не работает"
   ]
  },
  {
   "cell_type": "code",
   "execution_count": 54,
   "metadata": {},
   "outputs": [
    {
     "data": {
      "text/plain": [
       "'моя длиннFя строкF для рFзных фокусов'"
      ]
     },
     "execution_count": 54,
     "metadata": {},
     "output_type": "execute_result"
    }
   ],
   "source": [
    "a.replace('а','F') # а тут работает"
   ]
  },
  {
   "cell_type": "code",
   "execution_count": null,
   "metadata": {},
   "outputs": [],
   "source": []
  }
 ],
 "metadata": {
  "kernelspec": {
   "display_name": "Python 3 (ipykernel)",
   "language": "python",
   "name": "python3"
  },
  "language_info": {
   "codemirror_mode": {
    "name": "ipython",
    "version": 3
   },
   "file_extension": ".py",
   "mimetype": "text/x-python",
   "name": "python",
   "nbconvert_exporter": "python",
   "pygments_lexer": "ipython3",
   "version": "3.9.13"
  }
 },
 "nbformat": 4,
 "nbformat_minor": 4
}
